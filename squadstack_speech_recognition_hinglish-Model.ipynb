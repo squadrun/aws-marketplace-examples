{
 "cells": [
  {
   "cell_type": "markdown",
   "metadata": {},
   "source": [
    "# Deploy SquadStack Speech Recognition (Hinglish) Model Package from AWS Marketplace \n"
   ]
  },
  {
   "cell_type": "markdown",
   "metadata": {},
   "source": [
    "---\n",
    "\n",
    "This notebook's CI test result for ap-south-1 is as follows.\n",
    "\n",
    "---"
   ]
  },
  {
   "cell_type": "markdown",
   "metadata": {},
   "source": [
    "Meet SquadStack ASR, a groundbreaking speech-to-text solution designed for both technology enthusiasts and business users. This innovative AI model boasts top-notch Word Error Rate (WER) performance, ensuring highly accurate transcriptions. SquadStack ASR also offers breakthrough performance in Hinglish transcription, making it perfect for mixed-language environments. With its swift processing capabilities, SquadStack ASR effectively saves time and enhances productivity. Best of all, our competitively priced solution delivers exceptional value without compromising quality. Embrace the future of speech recognition with SquadStack ASR, where precision, efficiency, and affordability harmoniously cater to the needs of tech-savvy users and businesses alike.\n",
    "\n",
    "This sample notebook shows you how to deploy [SquadStack Speech Recognition (Hinglish)]() using Amazon SageMaker.\n",
    "\n",
    "> **Note**: This is a reference notebook and it cannot run unless you make changes suggested in the notebook.\n",
    "\n",
    "## Pre-requisites:\n",
    "1. **Note**: This notebook contains elements which render correctly in Jupyter interface. Open this notebook from an Amazon SageMaker Notebook Instance or Amazon SageMaker Studio.\n",
    "1. Ensure that IAM role used has **AmazonSageMakerFullAccess**\n",
    "1. To deploy this ML model successfully, ensure that:\n",
    "    1. Either your IAM role has these three permissions and you have authority to make AWS Marketplace subscriptions in the AWS account used: \n",
    "        1. **aws-marketplace:ViewSubscriptions**\n",
    "        1. **aws-marketplace:Unsubscribe**\n",
    "        1. **aws-marketplace:Subscribe**  \n",
    "    2. or your AWS account has a subscription to [SquadStack Speech Recognition (Hinglish)](). If so, skip step: [Subscribe to the model package](#1.-Subscribe-to-the-model-package)\n",
    "\n",
    "## Contents:\n",
    "1. [Subscribe to the model package](#1.-Subscribe-to-the-model-package)\n",
    "2. [Create an endpoint and perform real-time inference](#2.-Create-an-endpoint-and-perform-real-time-inference)\n",
    "   1. [Create an endpoint](#A.-Create-an-endpoint)\n",
    "   2. [Create input payload](#B.-Create-input-payload)\n",
    "   3. [Perform real-time inference](#C.-Perform-real-time-inference)\n",
    "   4. [Visualize output](#D.-Visualize-output)\n",
    "   5. [Delete the endpoint](#E.-Delete-the-endpoint)\n",
    "3. [Perform batch inference](#3.-Perform-batch-inference) \n",
    "4. [Clean-up](#4.-Clean-up)\n",
    "    1. [Delete the model](#A.-Delete-the-model)\n",
    "    2. [Unsubscribe to the listing (optional)](#B.-Unsubscribe-to-the-listing-(optional))\n",
    "    \n",
    "\n",
    "## Usage instructions\n",
    "You can run this notebook one cell at a time (By using Shift+Enter for running a cell)."
   ]
  },
  {
   "cell_type": "markdown",
   "metadata": {},
   "source": [
    "## 1. Subscribe to the model package"
   ]
  },
  {
   "cell_type": "markdown",
   "metadata": {},
   "source": [
    "To subscribe to the model package:\n",
    "1. Open the model package listing page [SquadStack Speech Recognition (Hinglish)]()\n",
    "1. On the AWS Marketplace listing, click on the **Continue to subscribe** button.\n",
    "1. On the **Subscribe to this software** page, review and click on **\"Accept Offer\"** if you and your organization agrees with EULA, pricing, and support terms. \n",
    "1. Once you click on **Continue to configuration button** and then choose a **region**, you will see a **Product Arn** displayed. This is the model package ARN that you need to specify while creating a deployable model using Boto3. Copy the ARN corresponding to your region and specify the same in the following cell."
   ]
  },
  {
   "cell_type": "code",
   "execution_count": 1,
   "metadata": {},
   "outputs": [],
   "source": [
    "model_package_arn = \"<Customer to specify Model package ARN corresponding to their AWS region>\""
   ]
  },
  {
   "cell_type": "code",
   "execution_count": 2,
   "metadata": {},
   "outputs": [],
   "source": [
    "import os\n",
    "import json\n",
    "import uuid\n",
    "import boto3\n",
    "import base64\n",
    "\n",
    "import numpy as np\n",
    "import sagemaker as sage\n",
    "\n",
    "from sagemaker import ModelPackage\n",
    "from sagemaker import get_execution_role"
   ]
  },
  {
   "cell_type": "code",
   "execution_count": 3,
   "metadata": {},
   "outputs": [
    {
     "data": {
      "text/plain": [
       "'sagemaker-ap-south-1-851467480473'"
      ]
     },
     "execution_count": 3,
     "metadata": {},
     "output_type": "execute_result"
    }
   ],
   "source": [
    "role = get_execution_role()\n",
    "\n",
    "sagemaker_session = sage.Session()\n",
    "\n",
    "bucket = sagemaker_session.default_bucket()\n",
    "runtime = boto3.client(\"runtime.sagemaker\")\n",
    "bucket"
   ]
  },
  {
   "cell_type": "markdown",
   "metadata": {},
   "source": [
    "## 2. Create an endpoint and perform real-time inference"
   ]
  },
  {
   "cell_type": "markdown",
   "metadata": {},
   "source": [
    "If you want to understand how real-time inference with Amazon SageMaker works, see [Documentation](https://docs.aws.amazon.com/sagemaker/latest/dg/how-it-works-hosting.html)."
   ]
  },
  {
   "cell_type": "code",
   "execution_count": 4,
   "metadata": {},
   "outputs": [],
   "source": [
    "model_name = \"asr-hinglish-telesales\"\n",
    "\n",
    "content_type = \"application/x-recordio-protobuf\"\n",
    "\n",
    "real_time_inference_instance_type = (\n",
    "    \"ml.g4dn.xlarge\"\n",
    ")\n",
    "batch_transform_inference_instance_type = (\n",
    "    \"ml.c5.2xlarge\"\n",
    ")"
   ]
  },
  {
   "cell_type": "markdown",
   "metadata": {},
   "source": [
    "### A. Create an endpoint"
   ]
  },
  {
   "cell_type": "code",
   "execution_count": 5,
   "metadata": {},
   "outputs": [
    {
     "name": "stdout",
     "output_type": "stream",
     "text": [
      "--------!"
     ]
    }
   ],
   "source": [
    "# create a deployable model from the model package.\n",
    "model = ModelPackage(\n",
    "    role=role, model_package_arn=model_package_arn, sagemaker_session=sagemaker_session\n",
    ")\n",
    "\n",
    "# Deploy the model\n",
    "predictor = model.deploy(1, real_time_inference_instance_type, endpoint_name=model_name)"
   ]
  },
  {
   "cell_type": "markdown",
   "metadata": {},
   "source": [
    "Once endpoint has been created, you would be able to perform real-time inference."
   ]
  },
  {
   "cell_type": "markdown",
   "metadata": {},
   "source": [
    "### B. Create input payload"
   ]
  },
  {
   "cell_type": "code",
   "execution_count": 6,
   "metadata": {},
   "outputs": [
    {
     "data": {
      "text/plain": [
       "'data/input/real-time/hinglish-example.mp3'"
      ]
     },
     "execution_count": 6,
     "metadata": {},
     "output_type": "execute_result"
    }
   ],
   "source": [
    "input_path = 'data/input/real-time/'\n",
    "input_file_name = 'hinglish-example.mp3'\n",
    "\n",
    "file_name = os.path.join(input_path, input_file_name)\n",
    "file_name"
   ]
  },
  {
   "cell_type": "markdown",
   "metadata": {},
   "source": [
    "<Add code snippet that shows the payload contents>"
   ]
  },
  {
   "cell_type": "code",
   "execution_count": 7,
   "metadata": {},
   "outputs": [
    {
     "data": {
      "text/plain": [
       "'data/output/real-time/hinglish-example_out.json'"
      ]
     },
     "execution_count": 7,
     "metadata": {},
     "output_type": "execute_result"
    }
   ],
   "source": [
    "output_path = 'data/output/real-time/'\n",
    "output_file_name = os.path.join(\n",
    "    output_path, \n",
    "    input_file_name.replace('.wav', '_out.json').replace('.mp3', '_out.json')\n",
    ")\n",
    "\n",
    "output_file_name"
   ]
  },
  {
   "cell_type": "markdown",
   "metadata": {},
   "source": [
    "### C. Perform real-time inference"
   ]
  },
  {
   "cell_type": "code",
   "execution_count": 8,
   "metadata": {},
   "outputs": [
    {
     "name": "stdout",
     "output_type": "stream",
     "text": [
      "{\r\n",
      "    \"ContentType\": \"application/json\",\r\n",
      "    \"InvokedProductionVariant\": \"AllTraffic\"\r\n",
      "}\r\n"
     ]
    }
   ],
   "source": [
    "!aws sagemaker-runtime invoke-endpoint --endpoint-name $model_name --body fileb://$file_name --content-type $content_type --region $sagemaker_session.boto_region_name $output_file_name"
   ]
  },
  {
   "cell_type": "markdown",
   "metadata": {},
   "source": [
    "### D. Visualize output"
   ]
  },
  {
   "cell_type": "code",
   "execution_count": 9,
   "metadata": {},
   "outputs": [
    {
     "data": {
      "text/plain": [
       "{'metadata': {'channels': 2,\n",
       "  'created_at': '2023-05-12 11:13:45.321490',\n",
       "  'device': 'cuda:0',\n",
       "  'model_version': 'ASR_telecommunication-hinglish',\n",
       "  'request_id': 'baa38b74-f867-47f4-acd8-01cb4272bbcc',\n",
       "  'total_duration_sec': 114.4795,\n",
       "  'total_runtime_sec': 24.592},\n",
       " 'results': {'transcription': {'0': 'Hello, good afternoon, sir. मैं देख पा रही हूं, आप हमारे website पर थे, sir, खुद का mobile application create करने के लिए. जी, क्या आप कोई coaching institute youtube channel चला रहे हैं या फिर student को कहीं पढ़ा रहे हैं? Sir? आपने बात किया है, sir, already? Ok, sir, क्या मैं जान सकती हूं, आपको like सारे details बताए गए थे, क्या, ok, sir, आप demo, इसके लिए demo भी दिखाते हैं, sir? तो क्या आप demo देखना चाहते हैं, sir? Ok, sir, मैं आपको कब call करूं, sir, confirm करने के लिए. Ok, ठीक है, sir, मैं आपको कल दुबारा call करती हूं, sir, आपका समय देने के लिए. धन्यवाद, sir.',\n",
       "   '1': 'हां, हां, हां, हां, हां, बात हो गई है. हां, हां, हां, हां, detail बता दिया गया है. अभी decide नहीं किया है. नहीं, अभी हमको नहीं कुछ नहीं देखना. ठीक है, ठीक है.'},\n",
       "  'utterances': {'0': [{'confidence': 0.9952,\n",
       "     'end': 0.1195,\n",
       "     'start': 0.0,\n",
       "     'word': 'hello'},\n",
       "    {'confidence': 0.9981, 'end': 4.5817, 'start': 4.3825, 'word': 'good'},\n",
       "    {'confidence': 0.9699,\n",
       "     'end': 4.9801,\n",
       "     'start': 4.6614,\n",
       "     'word': 'afternoon'},\n",
       "    {'confidence': 0.9957, 'end': 6.6534, 'start': 6.4542, 'word': 'sir'},\n",
       "    {'confidence': 0.9913, 'end': 6.9721, 'start': 6.494, 'word': 'मैं'},\n",
       "    {'confidence': 0.9969, 'end': 7.2112, 'start': 6.7331, 'word': 'देख'},\n",
       "    {'confidence': 0.9919, 'end': 7.2908, 'start': 6.8127, 'word': 'पा'},\n",
       "    {'confidence': 0.991, 'end': 7.4104, 'start': 7.0518, 'word': 'रही'},\n",
       "    {'confidence': 0.8826, 'end': 7.6494, 'start': 7.2112, 'word': 'हूं'},\n",
       "    {'confidence': 0.8835, 'end': 7.7291, 'start': 7.3705, 'word': 'आप'},\n",
       "    {'confidence': 0.9628, 'end': 7.7689, 'start': 7.4104, 'word': 'हमारे'},\n",
       "    {'confidence': 0.3653, 'end': 8.3267, 'start': 7.6494, 'word': 'website'},\n",
       "    {'confidence': 0.2224, 'end': 8.4064, 'start': 8.1275, 'word': 'पर'},\n",
       "    {'confidence': 0.6475, 'end': 8.5657, 'start': 8.247, 'word': 'थे'},\n",
       "    {'confidence': 0.7814, 'end': 8.9243, 'start': 8.6454, 'word': 'sir'},\n",
       "    {'confidence': 0.7143, 'end': 8.9641, 'start': 8.6454, 'word': 'खुद'},\n",
       "    {'confidence': 0.9996, 'end': 9.2032, 'start': 8.9641, 'word': 'का'},\n",
       "    {'confidence': 0.7561, 'end': 9.6813, 'start': 9.0837, 'word': 'mobile'},\n",
       "    {'confidence': 1.0, 'end': 9.6813, 'start': 9.4024, 'word': 'application'},\n",
       "    {'confidence': 0.9198, 'end': 10.0398, 'start': 10.0, 'word': 'create'},\n",
       "    {'confidence': 0.9906, 'end': 10.3984, 'start': 10.0, 'word': 'करने'},\n",
       "    {'confidence': 0.9891, 'end': 10.7171, 'start': 10.239, 'word': 'के'},\n",
       "    {'confidence': 0.9588, 'end': 10.9562, 'start': 10.6375, 'word': 'लिए'},\n",
       "    {'confidence': 0.8866, 'end': 13.5458, 'start': 13.0677, 'word': 'जी'},\n",
       "    {'confidence': 0.6544, 'end': 13.5458, 'start': 13.2271, 'word': 'क्या'},\n",
       "    {'confidence': 0.8122, 'end': 13.8645, 'start': 13.4661, 'word': 'आप'},\n",
       "    {'confidence': 0.6754, 'end': 13.8645, 'start': 13.5458, 'word': 'कोई'},\n",
       "    {'confidence': 0.6273,\n",
       "     'end': 14.4223,\n",
       "     'start': 13.7052,\n",
       "     'word': 'coaching'},\n",
       "    {'confidence': 0.8926,\n",
       "     'end': 14.4223,\n",
       "     'start': 13.7849,\n",
       "     'word': 'institute'},\n",
       "    {'confidence': 0.5738,\n",
       "     'end': 14.4223,\n",
       "     'start': 14.1833,\n",
       "     'word': 'youtube'},\n",
       "    {'confidence': 0.9483,\n",
       "     'end': 14.8606,\n",
       "     'start': 14.6215,\n",
       "     'word': 'channel'},\n",
       "    {'confidence': 0.9231, 'end': 15.0996, 'start': 14.9801, 'word': 'चला'},\n",
       "    {'confidence': 0.6336, 'end': 15.6574, 'start': 15.2988, 'word': 'रहे'},\n",
       "    {'confidence': 0.7068, 'end': 15.7371, 'start': 15.4183, 'word': 'हैं'},\n",
       "    {'confidence': 0.2846, 'end': 16.1753, 'start': 16.0956, 'word': 'या'},\n",
       "    {'confidence': 0.9371, 'end': 16.0159, 'start': 15.6972, 'word': 'फिर'},\n",
       "    {'confidence': 0.7733,\n",
       "     'end': 16.0159,\n",
       "     'start': 15.8566,\n",
       "     'word': 'student'},\n",
       "    {'confidence': 0.8735, 'end': 16.3347, 'start': 16.0956, 'word': 'को'},\n",
       "    {'confidence': 0.3907, 'end': 16.6932, 'start': 16.3745, 'word': 'कहीं'},\n",
       "    {'confidence': 0.9794, 'end': 16.7331, 'start': 16.494, 'word': 'पढ़ा'},\n",
       "    {'confidence': 0.9749, 'end': 16.9721, 'start': 16.494, 'word': 'रहे'},\n",
       "    {'confidence': 0.9949, 'end': 17.3705, 'start': 16.8526, 'word': 'हैं'},\n",
       "    {'confidence': 0.994, 'end': 17.4104, 'start': 16.9721, 'word': 'sir'},\n",
       "    {'confidence': 0.978, 'end': 21.4741, 'start': 21.1155, 'word': 'आपने'},\n",
       "    {'confidence': 0.1753, 'end': 21.8327, 'start': 21.5139, 'word': 'बात'},\n",
       "    {'confidence': 0.8709, 'end': 22.0717, 'start': 21.753, 'word': 'किया'},\n",
       "    {'confidence': 0.9948, 'end': 22.2709, 'start': 21.7928, 'word': 'है'},\n",
       "    {'confidence': 0.9956, 'end': 22.51, 'start': 22.1116, 'word': 'sir'},\n",
       "    {'confidence': 0.9918,\n",
       "     'end': 22.7888,\n",
       "     'start': 22.3904,\n",
       "     'word': 'already'},\n",
       "    {'confidence': 0.9716, 'end': 22.7888, 'start': 22.4701, 'word': 'ok'},\n",
       "    {'confidence': 0.9971, 'end': 26.4143, 'start': 26.0159, 'word': 'sir'},\n",
       "    {'confidence': 0.9974, 'end': 26.4542, 'start': 26.255, 'word': 'क्या'},\n",
       "    {'confidence': 0.9835, 'end': 26.5737, 'start': 26.2948, 'word': 'मैं'},\n",
       "    {'confidence': 0.9786, 'end': 26.8924, 'start': 26.6135, 'word': 'जान'},\n",
       "    {'confidence': 0.9907, 'end': 27.1713, 'start': 27.012, 'word': 'सकती'},\n",
       "    {'confidence': 0.9646, 'end': 27.5697, 'start': 27.49, 'word': 'हूं'},\n",
       "    {'confidence': 0.9704, 'end': 27.8486, 'start': 27.5299, 'word': 'आपको'},\n",
       "    {'confidence': 0.7982, 'end': 28.0876, 'start': 27.6892, 'word': 'like'},\n",
       "    {'confidence': 0.991, 'end': 28.1275, 'start': 27.8088, 'word': 'सारे'},\n",
       "    {'confidence': 0.969, 'end': 28.4064, 'start': 28.247, 'word': 'details'},\n",
       "    {'confidence': 0.8666, 'end': 28.9243, 'start': 28.7649, 'word': 'बताए'},\n",
       "    {'confidence': 0.9896, 'end': 29.2032, 'start': 28.8446, 'word': 'गए'},\n",
       "    {'confidence': 0.987, 'end': 29.3227, 'start': 28.9243, 'word': 'थे'},\n",
       "    {'confidence': 0.9963, 'end': 29.6016, 'start': 29.0438, 'word': 'क्या'},\n",
       "    {'confidence': 0.9801, 'end': 30.1992, 'start': 30.0, 'word': 'ok'},\n",
       "    {'confidence': 0.9965, 'end': 34.7809, 'start': 34.502, 'word': 'sir'},\n",
       "    {'confidence': 0.9985, 'end': 34.9004, 'start': 34.6614, 'word': 'आप'},\n",
       "    {'confidence': 0.9367, 'end': 35.2191, 'start': 34.7809, 'word': 'demo'},\n",
       "    {'confidence': 0.9991, 'end': 35.6175, 'start': 35.2988, 'word': 'इसके'},\n",
       "    {'confidence': 0.9976, 'end': 35.8964, 'start': 35.498, 'word': 'लिए'},\n",
       "    {'confidence': 0.9717, 'end': 36.4542, 'start': 35.9363, 'word': 'demo'},\n",
       "    {'confidence': 0.9972, 'end': 36.1355, 'start': 36.0558, 'word': 'भी'},\n",
       "    {'confidence': 0.9916, 'end': 36.4542, 'start': 36.1753, 'word': 'दिखाते'},\n",
       "    {'confidence': 0.9892, 'end': 36.4542, 'start': 36.2948, 'word': 'हैं'},\n",
       "    {'confidence': 0.9184, 'end': 37.0518, 'start': 36.6534, 'word': 'sir'},\n",
       "    {'confidence': 0.9742, 'end': 37.3705, 'start': 37.0916, 'word': 'तो'},\n",
       "    {'confidence': 0.4331, 'end': 37.4104, 'start': 37.2112, 'word': 'क्या'},\n",
       "    {'confidence': 0.9324, 'end': 37.8884, 'start': 37.5299, 'word': 'आप'},\n",
       "    {'confidence': 0.9482, 'end': 37.8884, 'start': 37.6096, 'word': 'demo'},\n",
       "    {'confidence': 0.9857, 'end': 38.2072, 'start': 38.008, 'word': 'देखना'},\n",
       "    {'confidence': 0.9909, 'end': 38.6454, 'start': 38.3665, 'word': 'चाहते'},\n",
       "    {'confidence': 0.9944, 'end': 39.0438, 'start': 38.3665, 'word': 'हैं'},\n",
       "    {'confidence': 0.996, 'end': 39.0837, 'start': 38.7251, 'word': 'sir'},\n",
       "    {'confidence': 0.8774, 'end': 40.1594, 'start': 40.0, 'word': 'ok'},\n",
       "    {'confidence': 0.9988, 'end': 45.0598, 'start': 44.8207, 'word': 'sir'},\n",
       "    {'confidence': 0.9963, 'end': 45.4183, 'start': 45.3386, 'word': 'मैं'},\n",
       "    {'confidence': 0.9929, 'end': 45.7371, 'start': 45.4582, 'word': 'आपको'},\n",
       "    {'confidence': 0.9979, 'end': 46.0159, 'start': 45.6972, 'word': 'कब'},\n",
       "    {'confidence': 0.957, 'end': 46.1355, 'start': 45.8167, 'word': 'call'},\n",
       "    {'confidence': 0.9474, 'end': 46.3347, 'start': 46.1753, 'word': 'करूं'},\n",
       "    {'confidence': 0.9877, 'end': 46.6534, 'start': 46.4143, 'word': 'sir'},\n",
       "    {'confidence': 0.9994,\n",
       "     'end': 46.8924,\n",
       "     'start': 46.5737,\n",
       "     'word': 'confirm'},\n",
       "    {'confidence': 0.999, 'end': 47.3307, 'start': 47.0518, 'word': 'करने'},\n",
       "    {'confidence': 0.9993, 'end': 47.3705, 'start': 47.0518, 'word': 'के'},\n",
       "    {'confidence': 0.9965, 'end': 47.7689, 'start': 47.3705, 'word': 'लिए'},\n",
       "    {'confidence': 0.9022, 'end': 51.7127, 'start': 51.2707, 'word': 'ok'},\n",
       "    {'confidence': 0.9972, 'end': 52.3757, 'start': 51.3812, 'word': 'ठीक'},\n",
       "    {'confidence': 0.9951, 'end': 52.6519, 'start': 52.1547, 'word': 'है'},\n",
       "    {'confidence': 0.9969, 'end': 53.0387, 'start': 52.3757, 'word': 'sir'},\n",
       "    {'confidence': 0.9919, 'end': 53.1492, 'start': 52.8729, 'word': 'मैं'},\n",
       "    {'confidence': 0.9944, 'end': 53.1492, 'start': 53.0387, 'word': 'आपको'},\n",
       "    {'confidence': 0.9998, 'end': 53.7569, 'start': 53.2044, 'word': 'कल'},\n",
       "    {'confidence': 0.9969, 'end': 54.1436, 'start': 53.5359, 'word': 'दुबारा'},\n",
       "    {'confidence': 0.9905, 'end': 54.1436, 'start': 53.8674, 'word': 'call'},\n",
       "    {'confidence': 0.9934, 'end': 54.6409, 'start': 54.3094, 'word': 'करती'},\n",
       "    {'confidence': 0.7303, 'end': 55.2486, 'start': 54.6961, 'word': 'हूं'},\n",
       "    {'confidence': 0.9575, 'end': 55.5801, 'start': 55.1381, 'word': 'sir'},\n",
       "    {'confidence': 0.9892, 'end': 55.5801, 'start': 55.1934, 'word': 'आपका'},\n",
       "    {'confidence': 0.994, 'end': 56.3536, 'start': 55.9116, 'word': 'समय'},\n",
       "    {'confidence': 0.9868, 'end': 56.5746, 'start': 56.2431, 'word': 'देने'},\n",
       "    {'confidence': 0.9936, 'end': 57.1271, 'start': 56.7403, 'word': 'के'},\n",
       "    {'confidence': 0.949, 'end': 57.1823, 'start': 56.7403, 'word': 'लिए'},\n",
       "    {'confidence': 0.9146,\n",
       "     'end': 57.9006,\n",
       "     'start': 57.7348,\n",
       "     'word': 'धन्यवाद'},\n",
       "    {'confidence': 0.7708, 'end': 57.5691, 'start': 57.3481, 'word': 'sir'}],\n",
       "   '1': [{'confidence': 0.9944, 'end': 0.1594, 'start': 0.0, 'word': 'हां'},\n",
       "    {'confidence': 0.4387, 'end': 0.0, 'start': 0.0, 'word': 'हां'},\n",
       "    {'confidence': 0.5211, 'end': 5.4183, 'start': 5.4183, 'word': 'हां'},\n",
       "    {'confidence': 0.9717, 'end': 5.4183, 'start': 5.4183, 'word': 'हां'},\n",
       "    {'confidence': 0.6109, 'end': 10.0797, 'start': 10.0, 'word': 'हां'},\n",
       "    {'confidence': 0.9954, 'end': 19.0438, 'start': 18.7251, 'word': 'बात'},\n",
       "    {'confidence': 0.9883, 'end': 19.1235, 'start': 18.7649, 'word': 'हो'},\n",
       "    {'confidence': 0.9328, 'end': 19.3227, 'start': 19.1235, 'word': 'गई'},\n",
       "    {'confidence': 0.983, 'end': 19.5618, 'start': 19.2032, 'word': 'है'},\n",
       "    {'confidence': 0.5344, 'end': 20.1594, 'start': 20.0, 'word': 'हां'},\n",
       "    {'confidence': 0.1433, 'end': 22.8287, 'start': 22.7092, 'word': 'हां'},\n",
       "    {'confidence': 0.2964, 'end': 20.0, 'start': 20.0, 'word': 'हां'},\n",
       "    {'confidence': 0.9264, 'end': 22.7092, 'start': 22.7092, 'word': 'हां'},\n",
       "    {'confidence': 0.9436, 'end': 30.2789, 'start': 30.0, 'word': 'detail'},\n",
       "    {'confidence': 0.9893, 'end': 30.8367, 'start': 30.6773, 'word': 'बता'},\n",
       "    {'confidence': 0.9855, 'end': 31.1554, 'start': 30.8765, 'word': 'दिया'},\n",
       "    {'confidence': 0.1723, 'end': 31.3546, 'start': 31.0359, 'word': 'गया'},\n",
       "    {'confidence': 0.4012, 'end': 31.5139, 'start': 31.2749, 'word': 'है'},\n",
       "    {'confidence': 0.8607, 'end': 31.8725, 'start': 31.5936, 'word': 'अभी'},\n",
       "    {'confidence': 0.9984, 'end': 31.8725, 'start': 31.4741, 'word': 'decide'},\n",
       "    {'confidence': 0.985, 'end': 31.9522, 'start': 31.6733, 'word': 'नहीं'},\n",
       "    {'confidence': 0.878, 'end': 32.4701, 'start': 32.1912, 'word': 'किया'},\n",
       "    {'confidence': 0.9592, 'end': 32.5896, 'start': 32.3904, 'word': 'है'},\n",
       "    {'confidence': 0.9974, 'end': 40.5578, 'start': 40.3586, 'word': 'नहीं'},\n",
       "    {'confidence': 0.4539, 'end': 40.9562, 'start': 40.5578, 'word': 'अभी'},\n",
       "    {'confidence': 0.9937, 'end': 41.1952, 'start': 40.8765, 'word': 'हमको'},\n",
       "    {'confidence': 0.7817, 'end': 41.3944, 'start': 41.1155, 'word': 'नहीं'},\n",
       "    {'confidence': 0.9973, 'end': 41.6733, 'start': 41.3944, 'word': 'कुछ'},\n",
       "    {'confidence': 0.8183, 'end': 41.8725, 'start': 41.5139, 'word': 'नहीं'},\n",
       "    {'confidence': 0.9135, 'end': 42.2311, 'start': 41.9124, 'word': 'देखना'},\n",
       "    {'confidence': 0.7596, 'end': 50.221, 'start': 50.0, 'word': 'ठीक'},\n",
       "    {'confidence': 0.5481, 'end': 50.1105, 'start': 50.0, 'word': 'है'},\n",
       "    {'confidence': 0.4038, 'end': 56.9061, 'start': 56.5746, 'word': 'ठीक'},\n",
       "    {'confidence': 0.7938, 'end': 57.1823, 'start': 56.9613, 'word': 'है'}]}}}"
      ]
     },
     "execution_count": 9,
     "metadata": {},
     "output_type": "execute_result"
    }
   ],
   "source": [
    "with open(output_file_name, 'r') as f:\n",
    "    output = json.load(f)\n",
    "    \n",
    "output"
   ]
  },
  {
   "cell_type": "code",
   "execution_count": 10,
   "metadata": {},
   "outputs": [
    {
     "name": "stdout",
     "output_type": "stream",
     "text": [
      "Total channels: 2\n",
      "Total duration of call: 114.4795 sec\n",
      "Total prediction time: 24.592 sec, on device - cuda:0\n"
     ]
    }
   ],
   "source": [
    "print (\"Total channels: {}\".format(output['metadata']['channels']))\n",
    "print (\"Total duration of call: {} sec\".format(output['metadata']['total_duration_sec']))\n",
    "print (\"Total prediction time: {} sec, on device - {}\".format(\n",
    "    output['metadata']['total_runtime_sec'], output['metadata']['device']\n",
    "))"
   ]
  },
  {
   "cell_type": "code",
   "execution_count": 11,
   "metadata": {},
   "outputs": [
    {
     "name": "stdout",
     "output_type": "stream",
     "text": [
      "\n",
      "Channel 0: \"Hello, good afternoon, sir. मैं देख पा रही हूं, आप हमारे website पर थे, sir, खुद का mobile application create करने के लिए. जी, क्या आप कोई coaching institute youtube channel चला रहे हैं या फिर student को कहीं पढ़ा रहे हैं? Sir? आपने बात किया है, sir, already? Ok, sir, क्या मैं जान सकती हूं, आपको like सारे details बताए गए थे, क्या, ok, sir, आप demo, इसके लिए demo भी दिखाते हैं, sir? तो क्या आप demo देखना चाहते हैं, sir? Ok, sir, मैं आपको कब call करूं, sir, confirm करने के लिए. Ok, ठीक है, sir, मैं आपको कल दुबारा call करती हूं, sir, आपका समय देने के लिए. धन्यवाद, sir.\"\n",
      "\n",
      "\n",
      "Channel 1: \"हां, हां, हां, हां, हां, बात हो गई है. हां, हां, हां, हां, detail बता दिया गया है. अभी decide नहीं किया है. नहीं, अभी हमको नहीं कुछ नहीं देखना. ठीक है, ठीक है.\"\n",
      "\n"
     ]
    }
   ],
   "source": [
    "for k, v in output['results']['transcription'].items():\n",
    "    print ('\\nChannel {}: \"{}\"\\n'.format(k, v))"
   ]
  },
  {
   "cell_type": "markdown",
   "metadata": {},
   "source": [
    "### E. Delete the endpoint"
   ]
  },
  {
   "cell_type": "markdown",
   "metadata": {},
   "source": [
    "Now that you have successfully performed a real-time inference, you do not need the endpoint any more. You can terminate the endpoint to avoid being charged."
   ]
  },
  {
   "cell_type": "code",
   "execution_count": 12,
   "metadata": {},
   "outputs": [],
   "source": [
    "model.sagemaker_session.delete_endpoint(model_name)\n",
    "model.sagemaker_session.delete_endpoint_config(model_name)"
   ]
  },
  {
   "cell_type": "markdown",
   "metadata": {},
   "source": [
    "## 3. Perform batch inference"
   ]
  },
  {
   "cell_type": "markdown",
   "metadata": {},
   "source": [
    "In this section, you will perform batch inference using multiple input payloads together. If you are not familiar with batch transform, and want to learn more, see these links:\n",
    "1. [How it works](https://docs.aws.amazon.com/sagemaker/latest/dg/ex1-batch-transform.html)\n",
    "2. [How to run a batch transform job](https://docs.aws.amazon.com/sagemaker/latest/dg/how-it-works-batch.html)"
   ]
  },
  {
   "cell_type": "code",
   "execution_count": 13,
   "metadata": {},
   "outputs": [
    {
     "name": "stdout",
     "output_type": "stream",
     "text": [
      "Transform input uploaded to s3://sagemaker-ap-south-1-851467480473/asr-hinglish-telesales\n"
     ]
    }
   ],
   "source": [
    "# upload the batch-transform job input files to S3\n",
    "transform_input_folder = \"data/input/batch\"\n",
    "transform_input = sagemaker_session.upload_data(transform_input_folder, key_prefix=model_name)\n",
    "print(\"Transform input uploaded to \" + transform_input)"
   ]
  },
  {
   "cell_type": "code",
   "execution_count": 14,
   "metadata": {},
   "outputs": [
    {
     "name": "stderr",
     "output_type": "stream",
     "text": [
      "INFO:sagemaker:Creating transform job with name: asr-hinglish-telesales-2023-05-12-11-13-47-246\n"
     ]
    },
    {
     "name": "stdout",
     "output_type": "stream",
     "text": [
      ".................................................\u001b[34mtorchvision is not available - cannot save figures\n",
      " * Serving Flask app 'api'\n",
      " * Debug mode: off\u001b[0m\n",
      "\u001b[34m#033[31m#033[1mWARNING: This is a development server. Do not use it in a production deployment. Use a production WSGI server instead.#033[0m\n",
      " * Running on all addresses (0.0.0.0)\n",
      " * Running on http://127.0.0.1:8080\n",
      " * Running on http://169.254.255.131:8080\u001b[0m\n",
      "\u001b[34m#033[33mPress CTRL+C to quit#033[0m\u001b[0m\n",
      "\u001b[35mtorchvision is not available - cannot save figures\n",
      " * Serving Flask app 'api'\n",
      " * Debug mode: off\u001b[0m\n",
      "\u001b[35m#033[31m#033[1mWARNING: This is a development server. Do not use it in a production deployment. Use a production WSGI server instead.#033[0m\n",
      " * Running on all addresses (0.0.0.0)\n",
      " * Running on http://127.0.0.1:8080\n",
      " * Running on http://169.254.255.131:8080\u001b[0m\n",
      "\u001b[35m#033[33mPress CTRL+C to quit#033[0m\u001b[0m\n",
      "\u001b[34m169.254.255.130 - - [12/May/2023 11:21:50] \"GET /ping HTTP/1.1\" 200 -\u001b[0m\n",
      "\u001b[34m169.254.255.130 - - [12/May/2023 11:21:50] \"#033[33mGET /execution-parameters HTTP/1.1#033[0m\" 404 -\u001b[0m\n",
      "\u001b[35m169.254.255.130 - - [12/May/2023 11:21:50] \"GET /ping HTTP/1.1\" 200 -\u001b[0m\n",
      "\u001b[35m169.254.255.130 - - [12/May/2023 11:21:50] \"#033[33mGET /execution-parameters HTTP/1.1#033[0m\" 404 -\u001b[0m\n",
      "\u001b[32m2023-05-12T11:21:50.551:[sagemaker logs]: MaxConcurrentTransforms=1, MaxPayloadInMB=6, BatchStrategy=MULTI_RECORD\u001b[0m\n",
      "\n",
      "\u001b[34mtorchvision is not available - cannot save figures\n",
      " * Serving Flask app 'api'\n",
      " * Debug mode: off\u001b[0m\n",
      "\u001b[34m#033[31m#033[1mWARNING: This is a development server. Do not use it in a production deployment. Use a production WSGI server instead.#033[0m\n",
      " * Running on all addresses (0.0.0.0)\n",
      " * Running on http://127.0.0.1:8080\n",
      " * Running on http://169.254.255.131:8080\u001b[0m\n",
      "\u001b[34m#033[33mPress CTRL+C to quit#033[0m\u001b[0m\n",
      "\u001b[35mtorchvision is not available - cannot save figures\n",
      " * Serving Flask app 'api'\n",
      " * Debug mode: off\u001b[0m\n",
      "\u001b[35m#033[31m#033[1mWARNING: This is a development server. Do not use it in a production deployment. Use a production WSGI server instead.#033[0m\n",
      " * Running on all addresses (0.0.0.0)\n",
      " * Running on http://127.0.0.1:8080\n",
      " * Running on http://169.254.255.131:8080\u001b[0m\n",
      "\u001b[35m#033[33mPress CTRL+C to quit#033[0m\u001b[0m\n",
      "\u001b[34m169.254.255.130 - - [12/May/2023 11:21:50] \"GET /ping HTTP/1.1\" 200 -\u001b[0m\n",
      "\u001b[34m169.254.255.130 - - [12/May/2023 11:21:50] \"#033[33mGET /execution-parameters HTTP/1.1#033[0m\" 404 -\u001b[0m\n",
      "\u001b[35m169.254.255.130 - - [12/May/2023 11:21:50] \"GET /ping HTTP/1.1\" 200 -\u001b[0m\n",
      "\u001b[35m169.254.255.130 - - [12/May/2023 11:21:50] \"#033[33mGET /execution-parameters HTTP/1.1#033[0m\" 404 -\u001b[0m\n",
      "\u001b[32m2023-05-12T11:21:50.551:[sagemaker logs]: MaxConcurrentTransforms=1, MaxPayloadInMB=6, BatchStrategy=MULTI_RECORD\u001b[0m\n",
      "\u001b[34m169.254.255.130 - - [12/May/2023 11:23:38] \"POST /invocations HTTP/1.1\" 200 -\u001b[0m\n",
      "\u001b[35m169.254.255.130 - - [12/May/2023 11:23:38] \"POST /invocations HTTP/1.1\" 200 -\u001b[0m\n",
      "\u001b[34m169.254.255.130 - - [12/May/2023 11:24:17] \"POST /invocations HTTP/1.1\" 200 -\u001b[0m\n",
      "\u001b[35m169.254.255.130 - - [12/May/2023 11:24:17] \"POST /invocations HTTP/1.1\" 200 -\u001b[0m\n"
     ]
    }
   ],
   "source": [
    "# Run the batch-transform job\n",
    "transformer = model.transformer(1, batch_transform_inference_instance_type)\n",
    "transformer.transform(transform_input, content_type=content_type)\n",
    "transformer.wait()"
   ]
  },
  {
   "cell_type": "code",
   "execution_count": 15,
   "metadata": {},
   "outputs": [
    {
     "data": {
      "text/plain": [
       "('s3://sagemaker-ap-south-1-851467480473/asr-hinglish-telesales-2023-05-12-11-13-47-246',\n",
       " 'sagemaker-ap-south-1-851467480473',\n",
       " 'asr-hinglish-telesales-2023-05-12-11-13-47-246',\n",
       " 'data/output/batch/')"
      ]
     },
     "execution_count": 15,
     "metadata": {},
     "output_type": "execute_result"
    }
   ],
   "source": [
    "# output is available on following path\n",
    "my_bucket = transformer.output_path.split('/')[2]\n",
    "output_folder = transformer.output_path.split('/')[-1]\n",
    "output_path = 'data/output/batch/'\n",
    "\n",
    "transformer.output_path, bucket, output_folder, output_path"
   ]
  },
  {
   "cell_type": "code",
   "execution_count": 16,
   "metadata": {},
   "outputs": [
    {
     "name": "stdout",
     "output_type": "stream",
     "text": [
      "\n",
      "\n",
      "S3 Path: s3://sagemaker-ap-south-1-851467480473/asr-hinglish-telesales-2023-05-12-11-13-47-246/english-example.wav.out\n",
      "\n",
      "Total channels: 1\n",
      "Total duration of call: 27.0 sec\n",
      "Total prediction time: 38.9744 sec, on device - cpu\n",
      "\n",
      "Channel 0 - Telesales Expert: \"Today, like this day, i will go to give after some sometime, and after coming from, i will have my you know. And after having my you know, i go out outside of house and play with trade of there, just like my brother actually. And then, after coming to home, i will go to.\"\n",
      "\n",
      "\n",
      "\n",
      "S3 Path: s3://sagemaker-ap-south-1-851467480473/asr-hinglish-telesales-2023-05-12-11-13-47-246/hinglish-example.mp3.out\n",
      "\n",
      "Total channels: 2\n",
      "Total duration of call: 114.4795 sec\n",
      "Total prediction time: 107.9683 sec, on device - cpu\n",
      "\n",
      "Channel 0 - Telesales Expert: \"Hello, good afternoon, sir. मैं देख पा रही हूं, आप हमारे website पर थे, sir, खुद का mobile application create करने के लिए. जी, क्या आप कोई coaching institute youtube channel चला रहे हैं या फिर student को कहीं पढ़ा रहे हैं? Sir? आपने बात किया है, sir, already? Ok, sir, क्या मैं जान सकती हूं, आपको like सारे details बताए गए थे, क्या, ok, sir, आप demo, इसके लिए demo भी दिखाते हैं, sir? तो क्या आप demo देखना चाहते हैं, sir? Ok, sir, मैं आपको कब call करूं, sir, confirm करने के लिए. Ok, ठीक है, sir, मैं आपको कल दुबारा call करती हूं, sir, आपका समय देने के लिए. धन्यवाद, sir.\"\n",
      "\n",
      "\n",
      "Channel 1 - Telesales Expert: \"हां, हां, हां, हां, हां, बात हो गई है. हां, हां, हां, हां, detail बता दिया गया है. अभी decide नहीं किया है. नहीं, अभी हमको नहीं कुछ नहीं देखना. ठीक है, ठीक है.\"\n",
      "\n"
     ]
    }
   ],
   "source": [
    "conn = boto3.client('s3')\n",
    "contents = conn.list_objects(Bucket=my_bucket)\n",
    "\n",
    "for content in contents['Contents']:\n",
    "\n",
    "    if output_folder in str(content):\n",
    "        \n",
    "        response = conn.get_object(Bucket=my_bucket, Key=content['Key'])\n",
    "        output = json.loads(response['Body'].read())\n",
    "                \n",
    "        output_file_name = os.path.join(output_path, content['Key'].split('/')[-1])\n",
    "        \n",
    "        with open(output_file_name, 'w') as f:\n",
    "            json.dump(output, f, indent=4)\n",
    "        \n",
    "        print (\"\\n\\nS3 Path: {}\".format(os.path.join('s3://', my_bucket, content['Key'])))\n",
    "        print (\"\\nTotal channels: {}\".format(output['metadata']['channels']))\n",
    "        print (\"Total duration of call: {} sec\".format(output['metadata']['total_duration_sec']))\n",
    "        print (\"Total prediction time: {} sec, on device - {}\".format(\n",
    "            output['metadata']['total_runtime_sec'], output['metadata']['device']\n",
    "        ))\n",
    "        \n",
    "        for k, v in output['results']['transcription'].items():\n",
    "            print ('\\nChannel {} - Telesales Expert: \"{}\"\\n'.format(k, v))"
   ]
  },
  {
   "cell_type": "markdown",
   "metadata": {},
   "source": [
    "## 4. Clean-up"
   ]
  },
  {
   "cell_type": "markdown",
   "metadata": {},
   "source": [
    "### A. Delete the model"
   ]
  },
  {
   "cell_type": "code",
   "execution_count": 17,
   "metadata": {},
   "outputs": [
    {
     "name": "stderr",
     "output_type": "stream",
     "text": [
      "INFO:sagemaker:Deleting model with name: asr-hinglish-telesales-2023-05-12-11-13-46-586\n"
     ]
    }
   ],
   "source": [
    "model.delete_model()"
   ]
  },
  {
   "cell_type": "markdown",
   "metadata": {},
   "source": [
    "### B. Unsubscribe to the listing (optional)"
   ]
  },
  {
   "cell_type": "markdown",
   "metadata": {},
   "source": [
    "If you would like to unsubscribe to the model package, follow these steps. Before you cancel the subscription, ensure that you do not have any [deployable model](https://console.aws.amazon.com/sagemaker/home#/models) created from the model package or using the algorithm. Note - You can find this information by looking at the container name associated with the model. \n",
    "\n",
    "**Steps to unsubscribe to product from AWS Marketplace**:\n",
    "1. Navigate to __Machine Learning__ tab on [__Your Software subscriptions page__](https://aws.amazon.com/marketplace/ai/library?productType=ml&ref_=mlmp_gitdemo_indust)\n",
    "2. Locate the listing that you want to cancel the subscription for, and then choose __Cancel Subscription__  to cancel the subscription.\n",
    "\n"
   ]
  },
  {
   "cell_type": "code",
   "execution_count": null,
   "metadata": {},
   "outputs": [],
   "source": []
  }
 ],
 "metadata": {
  "instance_type": "ml.t3.medium",
  "kernelspec": {
   "display_name": "conda_python3",
   "language": "python",
   "name": "conda_python3"
  },
  "language_info": {
   "codemirror_mode": {
    "name": "ipython",
    "version": 3
   },
   "file_extension": ".py",
   "mimetype": "text/x-python",
   "name": "python",
   "nbconvert_exporter": "python",
   "pygments_lexer": "ipython3",
   "version": "3.10.8"
  }
 },
 "nbformat": 4,
 "nbformat_minor": 4
}
